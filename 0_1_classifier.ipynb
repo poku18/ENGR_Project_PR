{
 "cells": [
  {
   "cell_type": "code",
   "execution_count": 108,
   "id": "f34f60c5",
   "metadata": {},
   "outputs": [
    {
     "data": {
      "text/html": [
       "<div>\n",
       "<style scoped>\n",
       "    .dataframe tbody tr th:only-of-type {\n",
       "        vertical-align: middle;\n",
       "    }\n",
       "\n",
       "    .dataframe tbody tr th {\n",
       "        vertical-align: top;\n",
       "    }\n",
       "\n",
       "    .dataframe thead th {\n",
       "        text-align: right;\n",
       "    }\n",
       "</style>\n",
       "<table border=\"1\" class=\"dataframe\">\n",
       "  <thead>\n",
       "    <tr style=\"text-align: right;\">\n",
       "      <th></th>\n",
       "      <th>Unnamed: 0.2</th>\n",
       "      <th>commit_id</th>\n",
       "      <th>author_date</th>\n",
       "      <th>bugcount</th>\n",
       "      <th>fixcount</th>\n",
       "      <th>la</th>\n",
       "      <th>ld</th>\n",
       "      <th>nf</th>\n",
       "      <th>nd</th>\n",
       "      <th>ns</th>\n",
       "      <th>...</th>\n",
       "      <th>BugId</th>\n",
       "      <th>Project</th>\n",
       "      <th>FixHashId</th>\n",
       "      <th>BUG</th>\n",
       "      <th>BIC</th>\n",
       "      <th>Comments</th>\n",
       "      <th>title</th>\n",
       "      <th>description</th>\n",
       "      <th>BFC_message</th>\n",
       "      <th>Label</th>\n",
       "    </tr>\n",
       "  </thead>\n",
       "  <tbody>\n",
       "    <tr>\n",
       "      <th>0</th>\n",
       "      <td>0</td>\n",
       "      <td>0049967a874a3dca7c6ab8e8e84ca7dea21dc0b2</td>\n",
       "      <td>1395160653</td>\n",
       "      <td>0.0</td>\n",
       "      <td>1.0</td>\n",
       "      <td>29</td>\n",
       "      <td>12</td>\n",
       "      <td>2</td>\n",
       "      <td>2</td>\n",
       "      <td>1</td>\n",
       "      <td>...</td>\n",
       "      <td>1284162</td>\n",
       "      <td>neutron</td>\n",
       "      <td>0049967a874a3dca7c6ab8e8e84ca7dea21dc0b2</td>\n",
       "      <td>1</td>\n",
       "      <td>1</td>\n",
       "      <td>NaN</td>\n",
       "      <td>Bug #1284162 in neutron: \"Cisco plugin fails t...</td>\n",
       "      <td>When the Cisco nexus plugin is configured on D...</td>\n",
       "      <td>Cisco plugin fails with ParseError no elem fou...</td>\n",
       "      <td>1</td>\n",
       "    </tr>\n",
       "    <tr>\n",
       "      <th>2</th>\n",
       "      <td>2</td>\n",
       "      <td>00ac56a100ac7329a01b5f1fa336b99e64778eaf</td>\n",
       "      <td>1401120475</td>\n",
       "      <td>NaN</td>\n",
       "      <td>1.0</td>\n",
       "      <td>16</td>\n",
       "      <td>4</td>\n",
       "      <td>4</td>\n",
       "      <td>3</td>\n",
       "      <td>1</td>\n",
       "      <td>...</td>\n",
       "      <td>1322180</td>\n",
       "      <td>nova</td>\n",
       "      <td>00ac56a100ac7329a01b5f1fa336b99e64778eaf</td>\n",
       "      <td>1</td>\n",
       "      <td>0</td>\n",
       "      <td>\"Legacy bdm in incoming parameters contains a ...</td>\n",
       "      <td>Bug #1322180 in OpenStack Compute (nova): \"Fai...</td>\n",
       "      <td>Launting an instance from bootable volume pass...</td>\n",
       "      <td>Run instance root device determination fix.\\n\\...</td>\n",
       "      <td>0</td>\n",
       "    </tr>\n",
       "    <tr>\n",
       "      <th>3</th>\n",
       "      <td>3</td>\n",
       "      <td>00f5125745dc72afbc9aeade8b780d7a3be49a30</td>\n",
       "      <td>1394439616</td>\n",
       "      <td>NaN</td>\n",
       "      <td>1.0</td>\n",
       "      <td>5</td>\n",
       "      <td>1</td>\n",
       "      <td>2</td>\n",
       "      <td>2</td>\n",
       "      <td>1</td>\n",
       "      <td>...</td>\n",
       "      <td>1288926</td>\n",
       "      <td>nova</td>\n",
       "      <td>00f5125745dc72afbc9aeade8b780d7a3be49a30</td>\n",
       "      <td>1</td>\n",
       "      <td>1</td>\n",
       "      <td>bug rebooting</td>\n",
       "      <td>Bug #1288926 in OpenStack Compute (nova): \"inc...</td>\n",
       "      <td>This is using the latest nova from trunk. In o...</td>\n",
       "      <td>Don't allow reboot when instance in rebooting_...</td>\n",
       "      <td>1</td>\n",
       "    </tr>\n",
       "    <tr>\n",
       "      <th>4</th>\n",
       "      <td>4</td>\n",
       "      <td>011d99f300ea5d5f4ce48023bd04a795a4872287</td>\n",
       "      <td>1369792347</td>\n",
       "      <td>3.0</td>\n",
       "      <td>1.0</td>\n",
       "      <td>87</td>\n",
       "      <td>47</td>\n",
       "      <td>2</td>\n",
       "      <td>2</td>\n",
       "      <td>1</td>\n",
       "      <td>...</td>\n",
       "      <td>1175695</td>\n",
       "      <td>neutron</td>\n",
       "      <td>011d99f300ea5d5f4ce48023bd04a795a4872287</td>\n",
       "      <td>1</td>\n",
       "      <td>1</td>\n",
       "      <td></td>\n",
       "      <td>Bug #1175695 in neutron: \"L3 agent restart cau...</td>\n",
       "      <td>When L3 agent is restarted, it destroys all ex...</td>\n",
       "      <td>L3 Agent restart causes network outage\\n\\nWhen...</td>\n",
       "      <td>1</td>\n",
       "    </tr>\n",
       "    <tr>\n",
       "      <th>5</th>\n",
       "      <td>5</td>\n",
       "      <td>0125cf7815acb677b619905e2d9d258a9bae1c48</td>\n",
       "      <td>1407713999</td>\n",
       "      <td>NaN</td>\n",
       "      <td>1.0</td>\n",
       "      <td>3</td>\n",
       "      <td>2</td>\n",
       "      <td>2</td>\n",
       "      <td>2</td>\n",
       "      <td>1</td>\n",
       "      <td>...</td>\n",
       "      <td>1355759</td>\n",
       "      <td>neutron</td>\n",
       "      <td>0125cf7815acb677b619905e2d9d258a9bae1c48</td>\n",
       "      <td>1</td>\n",
       "      <td>1</td>\n",
       "      <td>NaN</td>\n",
       "      <td>Bug #1355759 in neutron: \"L2populationRpcCallB...</td>\n",
       "      <td>L2populationRpcCallBackTunnelMixin get_agent_p...</td>\n",
       "      <td>l2pop: get_agent_ports: Don't yield (None, {})...</td>\n",
       "      <td>1</td>\n",
       "    </tr>\n",
       "  </tbody>\n",
       "</table>\n",
       "<p>5 rows × 45 columns</p>\n",
       "</div>"
      ],
      "text/plain": [
       "   Unnamed: 0.2                                 commit_id  author_date  \\\n",
       "0             0  0049967a874a3dca7c6ab8e8e84ca7dea21dc0b2   1395160653   \n",
       "2             2  00ac56a100ac7329a01b5f1fa336b99e64778eaf   1401120475   \n",
       "3             3  00f5125745dc72afbc9aeade8b780d7a3be49a30   1394439616   \n",
       "4             4  011d99f300ea5d5f4ce48023bd04a795a4872287   1369792347   \n",
       "5             5  0125cf7815acb677b619905e2d9d258a9bae1c48   1407713999   \n",
       "\n",
       "   bugcount  fixcount  la  ld  nf  nd  ns  ...    BugId  Project  \\\n",
       "0       0.0       1.0  29  12   2   2   1  ...  1284162  neutron   \n",
       "2       NaN       1.0  16   4   4   3   1  ...  1322180     nova   \n",
       "3       NaN       1.0   5   1   2   2   1  ...  1288926     nova   \n",
       "4       3.0       1.0  87  47   2   2   1  ...  1175695  neutron   \n",
       "5       NaN       1.0   3   2   2   2   1  ...  1355759  neutron   \n",
       "\n",
       "                                  FixHashId  BUG  BIC  \\\n",
       "0  0049967a874a3dca7c6ab8e8e84ca7dea21dc0b2    1    1   \n",
       "2  00ac56a100ac7329a01b5f1fa336b99e64778eaf    1    0   \n",
       "3  00f5125745dc72afbc9aeade8b780d7a3be49a30    1    1   \n",
       "4  011d99f300ea5d5f4ce48023bd04a795a4872287    1    1   \n",
       "5  0125cf7815acb677b619905e2d9d258a9bae1c48    1    1   \n",
       "\n",
       "                                            Comments  \\\n",
       "0                                                NaN   \n",
       "2  \"Legacy bdm in incoming parameters contains a ...   \n",
       "3                                      bug rebooting   \n",
       "4                                                      \n",
       "5                                                NaN   \n",
       "\n",
       "                                               title  \\\n",
       "0  Bug #1284162 in neutron: \"Cisco plugin fails t...   \n",
       "2  Bug #1322180 in OpenStack Compute (nova): \"Fai...   \n",
       "3  Bug #1288926 in OpenStack Compute (nova): \"inc...   \n",
       "4  Bug #1175695 in neutron: \"L3 agent restart cau...   \n",
       "5  Bug #1355759 in neutron: \"L2populationRpcCallB...   \n",
       "\n",
       "                                         description  \\\n",
       "0  When the Cisco nexus plugin is configured on D...   \n",
       "2  Launting an instance from bootable volume pass...   \n",
       "3  This is using the latest nova from trunk. In o...   \n",
       "4  When L3 agent is restarted, it destroys all ex...   \n",
       "5  L2populationRpcCallBackTunnelMixin get_agent_p...   \n",
       "\n",
       "                                         BFC_message  Label  \n",
       "0  Cisco plugin fails with ParseError no elem fou...      1  \n",
       "2  Run instance root device determination fix.\\n\\...      0  \n",
       "3  Don't allow reboot when instance in rebooting_...      1  \n",
       "4  L3 Agent restart causes network outage\\n\\nWhen...      1  \n",
       "5  l2pop: get_agent_ports: Don't yield (None, {})...      1  \n",
       "\n",
       "[5 rows x 45 columns]"
      ]
     },
     "execution_count": 108,
     "metadata": {},
     "output_type": "execute_result"
    }
   ],
   "source": [
    "import pandas as pd\n",
    "import numpy as np\n",
    "from numpy.linalg import norm\n",
    "import matplotlib.pyplot as plt\n",
    "\n",
    "from sklearn.model_selection import train_test_split\n",
    "from sklearn.preprocessing import PolynomialFeatures\n",
    "from sklearn.metrics import confusion_matrix, accuracy_score, classification_report\n",
    "\n",
    "from imblearn.over_sampling import SMOTE\n",
    "\n",
    "from autograd import grad\n",
    "import autograd.numpy as np\n",
    "\n",
    "# Reading the data\n",
    "df = pd.read_csv(\"Non_Textual_and_Textual_Features.csv\")\n",
    "\n",
    "# Function to create labels based on the Boolean columns BUG and BIC of the dataset. \n",
    "def label_bool(is_bug,bic):\n",
    "    if(is_bug==1 and bic==1):\n",
    "        return 1 # Intrinsic\n",
    "    elif(is_bug==1 and bic==0):\n",
    "        return 0 # Extrinsic\n",
    "    else:\n",
    "        return -1 # Non-bug\n",
    "    \n",
    "df[\"Label\"]=df.apply(lambda x: label_bool(x['BUG'],x['BIC']),axis=1)\n",
    "df = df[df['Label']>-1] #Filtering out all non-bugs\n",
    "\n",
    "df.head()"
   ]
  },
  {
   "cell_type": "markdown",
   "id": "0b20a965",
   "metadata": {},
   "source": [
    "# Data Clean up and processing\n",
    "\n",
    "- Converting boolean columns values to either 1 (true) or 0 (false)\n",
    "- Replacing NaN Values by zero (0)\n",
    "- Normalizing the data (scaling it down twice)\n",
    "- Defining the Independent and dependent variable"
   ]
  },
  {
   "cell_type": "code",
   "execution_count": 109,
   "id": "7b69753a",
   "metadata": {},
   "outputs": [
    {
     "name": "stdout",
     "output_type": "stream",
     "text": [
      "Index(['bugcount', 'fixcount', 'la', 'ld', 'nf', 'nd', 'ns', 'ent', 'revd',\n",
      "       'nrev', 'rtime', 'tcmt', 'hcmt', 'self', 'ndev', 'age', 'nuc', 'app',\n",
      "       'aexp', 'rexp', 'oexp', 'arexp', 'rrexp', 'orexp', 'asexp', 'rsexp',\n",
      "       'osexp', 'asawr', 'rsawr', 'osawr'],\n",
      "      dtype='object')\n"
     ]
    }
   ],
   "source": [
    "# Converting boolean columns to 1 and 0\n",
    "df['revd'] = df['revd'].apply(lambda x: 1 if x==True else 0)\n",
    "df['self'] = df['self'].apply(lambda x: 1 if x==True else 0)\n",
    "\n",
    "#Feature selection 3:33 all featurs\n",
    "print(df.columns[3:33])\n",
    "columns=list(df.columns[3:33])\n",
    "\n",
    "# Defining x and y\n",
    "x = df[columns]\n",
    "y = df['Label']\n",
    "\n",
    "x = x.fillna(0)                                  # Replacing NaN values with the mean of that column\n",
    "x_norm = (x-x.min())/(x.max()-x.min())*2      # Normalizing the data\n",
    "x= x_norm\n",
    "\n",
    "# Converting to numpy array\n",
    "x = np.array(x)\n",
    "y = np.array(y)"
   ]
  },
  {
   "cell_type": "markdown",
   "id": "907c9d69",
   "metadata": {},
   "source": [
    "# Train Test Splitting the dataset"
   ]
  },
  {
   "cell_type": "code",
   "execution_count": 110,
   "id": "695713e3",
   "metadata": {},
   "outputs": [
    {
     "name": "stdout",
     "output_type": "stream",
     "text": [
      "(892, 30) (892,)\n"
     ]
    }
   ],
   "source": [
    "x_train, x_test, y_train, y_test = train_test_split(x, y, test_size=0.33, random_state=42, stratify=y)\n",
    "print(x_train.shape, y_train.shape)"
   ]
  },
  {
   "cell_type": "code",
   "execution_count": 119,
   "id": "b8122800",
   "metadata": {},
   "outputs": [],
   "source": [
    "def model(x,w):\n",
    "    # generate polynomial function of degree = d\n",
    "    polynomial_features = PolynomialFeatures(d)\n",
    "    x_poly = polynomial_features.fit_transform(x)\n",
    "    return np.dot(x_poly,w)  # x_poly already has the bias term within it\n",
    "    #return w[0]+np.dot(x_poly,w[1:])\n",
    "\n",
    "def sigmoid(t):\n",
    "    return 1/(1+np.exp(-t)) \n",
    "\n",
    "def tanh(t):      # Experimenting with another activation function\n",
    "    return (2/(1+np.exp(-2*t))) - 1\n",
    "\n",
    "def cross_entropy(w,x,y):\n",
    "    a = sigmoid(model(x,w))\n",
    "    ind = np.argwhere(y==0)[:,0]\n",
    "    cost = -5*np.sum(np.log(1-a[ind]))\n",
    "    \n",
    "    ind = np.argwhere(y==1)[:,0]\n",
    "    cost -= np.sum(np.log(a[ind]))\n",
    "    cost = cost/y.size\n",
    "    cost += lambda_*norm(w[1:],1)\n",
    "    return cost\n",
    "\n",
    "# def class_balancing(X, y):\n",
    "#     # Perform class balancing using SMOTE\n",
    "#     smote = SMOTE()\n",
    "#     X_balanced, y_balanced = smote.fit_resample(X, y)\n",
    "#     return X_balanced, y_balanced\n",
    "\n",
    "\n",
    "def gradient_descent(g,step,max_iter,w):\n",
    "    gradient = grad(g)\n",
    "    weight_history = [w]\n",
    "    cost_history = [g(w)]\n",
    "    \n",
    "    for k in range(max_iter):\n",
    "        grad_eval = gradient(w) #get the gradient\n",
    "        grad_eval_norm = grad_eval/np.linalg.norm(grad_eval)  #Normalized gradient descent\n",
    "        w = w - step*grad_eval_norm\n",
    "        weight_history.append(w)\n",
    "        cost_history.append(g(w))\n",
    "    return weight_history, cost_history\n",
    "\n",
    "def c(w):\n",
    "    c = cross_entropy(w,x_train,y_train)\n",
    "    return c"
   ]
  },
  {
   "cell_type": "code",
   "execution_count": 112,
   "id": "bf30254c",
   "metadata": {},
   "outputs": [
    {
     "data": {
      "text/plain": [
       "[<matplotlib.lines.Line2D at 0x7fe9805ad460>]"
      ]
     },
     "execution_count": 112,
     "metadata": {},
     "output_type": "execute_result"
    },
    {
     "data": {
      "image/png": "[encoded data removed]",
      "text/plain": [
       "<Figure size 640x480 with 1 Axes>"
      ]
     },
     "metadata": {},
     "output_type": "display_data"
    }
   ],
   "source": [
    "iter = 800\n",
    "\n",
    "global d, lambda_\n",
    "\n",
    "d = 1 #degree of polynomial\n",
    "lambda_= 0\n",
    "polynomial_features = PolynomialFeatures(d)\n",
    "x_poly = polynomial_features.fit_transform(x)\n",
    "\n",
    "# Training using gradient descent\n",
    "w = np.array(np.random.rand(x_poly.shape[1],1))\n",
    "a, b = gradient_descent(c,0.01,iter,w)\n",
    "\n",
    "plt.plot(b) # Plot the cost minimization pattern"
   ]
  },
  {
   "cell_type": "code",
   "execution_count": 113,
   "id": "0767907d",
   "metadata": {},
   "outputs": [
    {
     "name": "stdout",
     "output_type": "stream",
     "text": [
      "[[ 23  47]\n",
      " [116 254]]\n",
      "0.6295454545454545\n",
      "              precision    recall  f1-score   support\n",
      "\n",
      "           0       0.17      0.33      0.22        70\n",
      "           1       0.84      0.69      0.76       370\n",
      "\n",
      "    accuracy                           0.63       440\n",
      "   macro avg       0.50      0.51      0.49       440\n",
      "weighted avg       0.74      0.63      0.67       440\n",
      "\n"
     ]
    }
   ],
   "source": [
    "y_pred = np.sign(sigmoid(model(x_test, a[iter]))- 0.5)/2 +0.5\n",
    "\n",
    "print(confusion_matrix(y_test,y_pred))\n",
    "print(accuracy_score(y_test,y_pred))\n",
    "print(classification_report(y_test, y_pred))"
   ]
  },
  {
   "cell_type": "code",
   "execution_count": 118,
   "id": "fb6bd2d1",
   "metadata": {},
   "outputs": [
    {
     "name": "stdout",
     "output_type": "stream",
     "text": [
      "[[  0  70]\n",
      " [  0 370]]\n",
      "0.8409090909090909\n"
     ]
    }
   ],
   "source": [
    "# Comparing with the library method\n",
    "\n",
    "from sklearn.linear_model import LogisticRegression\n",
    "\n",
    "classifier = LogisticRegression(penalty='l2',solver='liblinear')\n",
    "classifier.fit(x_train, y_train)\n",
    "\n",
    "y_pred2 = classifier.predict(x_test)\n",
    "print(confusion_matrix(y_test,y_pred2))\n",
    "print(accuracy_score(y_test,y_pred2))"
   ]
  },
  {
   "cell_type": "markdown",
   "id": "ff41ca6f",
   "metadata": {},
   "source": [
    "# Experiments to analyze effect of regularization and sensitivity of data to Lambda value"
   ]
  },
  {
   "cell_type": "code",
   "execution_count": 120,
   "id": "fab2e762",
   "metadata": {},
   "outputs": [
    {
     "name": "stdout",
     "output_type": "stream",
     "text": [
      "(1332, 30) (1332,)\n",
      "(400, 30) (400,)\n",
      "(932, 30) (932,)\n",
      "(200, 30) (200,)\n",
      "(200, 30) (200,)\n"
     ]
    }
   ],
   "source": [
    "# Splitting data into Train, Validation and Test\n",
    "\n",
    "print(x.shape, y.shape)\n",
    "x_train, x_test, y_train, y_test = train_test_split(x, y, test_size=0.30, random_state=42, stratify=y)\n",
    "print(x_test.shape, y_test.shape)\n",
    "\n",
    "x_test, x_val, y_test, y_val = train_test_split(x_test, y_test, test_size=0.50, random_state=42, stratify=y_test)\n",
    "print(x_train.shape, y_train.shape)\n",
    "print(x_val.shape, y_val.shape)\n",
    "print(x_test.shape, y_test.shape)"
   ]
  },
  {
   "cell_type": "code",
   "execution_count": 122,
   "id": "67197254",
   "metadata": {},
   "outputs": [
    {
     "name": "stdout",
     "output_type": "stream",
     "text": [
      "[100.          89.44444444  78.88888889  68.33333333  57.77777778\n",
      "  47.22222222  36.66666667  26.11111111  15.55555556   5.        ]\n",
      "[0.01, 0.011180124223602485, 0.01267605633802817, 0.014634146341463412, 0.01730769230769231, 0.021176470588235293, 0.027272727272727268, 0.038297872340425525, 0.06428571428571428, 0.2]\n"
     ]
    },
    {
     "data": {
      "image/png": "[encoded data removed]",
      "text/plain": [
       "<Figure size 640x480 with 1 Axes>"
      ]
     },
     "metadata": {},
     "output_type": "display_data"
    }
   ],
   "source": [
    "iter = 10000\n",
    "\n",
    "global d, lambda_\n",
    "d = 1\n",
    "polynomial_features = PolynomialFeatures(d)\n",
    "x_poly = polynomial_features.fit_transform(x)\n",
    "w = np.array(np.random.rand(x_poly.shape[1],1))\n",
    "\n",
    "lambda_array = np.linspace(100,5,10)\n",
    "print(lambda_array)\n",
    "cost_train_array = []\n",
    "a_array = []\n",
    "cost_val_array = []\n",
    "i=0\n",
    "for lambda_ in lambda_array:\n",
    "    a, b = gradient_descent(c,0.01,iter,w)\n",
    "    cost_val = cross_entropy(a[iter],x_val,y_val)\n",
    "    a_array.append(a)\n",
    "    cost_train_array.append(b[iter-1])\n",
    "    cost_val_array.append(cost_val)\n",
    "    \n",
    "plt.figure(1)\n",
    "lam = [1/x for x in lambda_array]\n",
    "print(lam)\n",
    "\n",
    "cost_train_array = np.array(cost_train_array)\n",
    "cost_val_array = np.array(cost_val_array)\n",
    "plt.plot(lam, cost_train_array, label=\"train\", marker='o')\n",
    "plt.plot(lam, cost_val_array, label=\"val\", marker='o')\n",
    "plt.xlabel('1/lambda')\n",
    "plt.ylabel('Cost')\n",
    "plt.legend()\n",
    "plt.show()"
   ]
  }
 ],
 "metadata": {
  "kernelspec": {
   "display_name": "Python 3 (ipykernel)",
   "language": "python",
   "name": "python3"
  },
  "language_info": {
   "codemirror_mode": {
    "name": "ipython",
    "version": 3
   },
   "file_extension": ".py",
   "mimetype": "text/x-python",
   "name": "python",
   "nbconvert_exporter": "python",
   "pygments_lexer": "ipython3",
   "version": "3.9.13"
  }
 },
 "nbformat": 4,
 "nbformat_minor": 5
}
